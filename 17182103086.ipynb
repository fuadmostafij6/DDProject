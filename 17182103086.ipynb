{
  "nbformat": 4,
  "nbformat_minor": 0,
  "metadata": {
    "colab": {
      "name": "17182103086.ipynb",
      "provenance": [],
      "collapsed_sections": [],
      "toc_visible": true,
      "machine_shape": "hm",
      "include_colab_link": true
    },
    "kernelspec": {
      "display_name": "Python 3",
      "name": "python3"
    },
    "widgets": {
      "application/vnd.jupyter.widget-state+json": {
        "1f5747a53fdc43eb90689342f010ecf2": {
          "model_module": "@jupyter-widgets/controls",
          "model_name": "HBoxModel",
          "model_module_version": "1.5.0",
          "state": {
            "_view_name": "HBoxView",
            "_dom_classes": [],
            "_model_name": "HBoxModel",
            "_view_module": "@jupyter-widgets/controls",
            "_model_module_version": "1.5.0",
            "_view_count": null,
            "_view_module_version": "1.5.0",
            "box_style": "",
            "layout": "IPY_MODEL_94a553b6af1e4be293ef17e2e9e8e421",
            "_model_module": "@jupyter-widgets/controls",
            "children": [
              "IPY_MODEL_e35ec38af151483db2925a0f711ee8f2",
              "IPY_MODEL_1c369e7d30704e6f9da952e34e1790f1",
              "IPY_MODEL_1fbe002575944a4ba01f109f23428d30"
            ]
          }
        },
        "94a553b6af1e4be293ef17e2e9e8e421": {
          "model_module": "@jupyter-widgets/base",
          "model_name": "LayoutModel",
          "model_module_version": "1.2.0",
          "state": {
            "_view_name": "LayoutView",
            "grid_template_rows": null,
            "right": null,
            "justify_content": null,
            "_view_module": "@jupyter-widgets/base",
            "overflow": null,
            "_model_module_version": "1.2.0",
            "_view_count": null,
            "flex_flow": null,
            "width": null,
            "min_width": null,
            "border": null,
            "align_items": null,
            "bottom": null,
            "_model_module": "@jupyter-widgets/base",
            "top": null,
            "grid_column": null,
            "overflow_y": null,
            "overflow_x": null,
            "grid_auto_flow": null,
            "grid_area": null,
            "grid_template_columns": null,
            "flex": null,
            "_model_name": "LayoutModel",
            "justify_items": null,
            "grid_row": null,
            "max_height": null,
            "align_content": null,
            "visibility": null,
            "align_self": null,
            "height": null,
            "min_height": null,
            "padding": null,
            "grid_auto_rows": null,
            "grid_gap": null,
            "max_width": null,
            "order": null,
            "_view_module_version": "1.2.0",
            "grid_template_areas": null,
            "object_position": null,
            "object_fit": null,
            "grid_auto_columns": null,
            "margin": null,
            "display": null,
            "left": null
          }
        },
        "e35ec38af151483db2925a0f711ee8f2": {
          "model_module": "@jupyter-widgets/controls",
          "model_name": "HTMLModel",
          "model_module_version": "1.5.0",
          "state": {
            "_view_name": "HTMLView",
            "style": "IPY_MODEL_1ce253b2f87246bcb872c16719e9c753",
            "_dom_classes": [],
            "description": "",
            "_model_name": "HTMLModel",
            "placeholder": "​",
            "_view_module": "@jupyter-widgets/controls",
            "_model_module_version": "1.5.0",
            "value": "",
            "_view_count": null,
            "_view_module_version": "1.5.0",
            "description_tooltip": null,
            "_model_module": "@jupyter-widgets/controls",
            "layout": "IPY_MODEL_f4e4f24d040f43879d36c848133b0e3a"
          }
        },
        "1c369e7d30704e6f9da952e34e1790f1": {
          "model_module": "@jupyter-widgets/controls",
          "model_name": "FloatProgressModel",
          "model_module_version": "1.5.0",
          "state": {
            "_view_name": "ProgressView",
            "style": "IPY_MODEL_c8e47ca21ecf4302a87f2728a3093449",
            "_dom_classes": [],
            "description": "",
            "_model_name": "FloatProgressModel",
            "bar_style": "success",
            "max": 9912422,
            "_view_module": "@jupyter-widgets/controls",
            "_model_module_version": "1.5.0",
            "value": 9912422,
            "_view_count": null,
            "_view_module_version": "1.5.0",
            "orientation": "horizontal",
            "min": 0,
            "description_tooltip": null,
            "_model_module": "@jupyter-widgets/controls",
            "layout": "IPY_MODEL_52f6fa679a294d5991a21c6b0d1a81ca"
          }
        },
        "1fbe002575944a4ba01f109f23428d30": {
          "model_module": "@jupyter-widgets/controls",
          "model_name": "HTMLModel",
          "model_module_version": "1.5.0",
          "state": {
            "_view_name": "HTMLView",
            "style": "IPY_MODEL_a4e3d29e331e47a187a3f064fe15fc57",
            "_dom_classes": [],
            "description": "",
            "_model_name": "HTMLModel",
            "placeholder": "​",
            "_view_module": "@jupyter-widgets/controls",
            "_model_module_version": "1.5.0",
            "value": " 9913344/? [00:00&lt;00:00, 49383771.91it/s]",
            "_view_count": null,
            "_view_module_version": "1.5.0",
            "description_tooltip": null,
            "_model_module": "@jupyter-widgets/controls",
            "layout": "IPY_MODEL_d62a7804180f4d93b42125d627a2c38b"
          }
        },
        "1ce253b2f87246bcb872c16719e9c753": {
          "model_module": "@jupyter-widgets/controls",
          "model_name": "DescriptionStyleModel",
          "model_module_version": "1.5.0",
          "state": {
            "_view_name": "StyleView",
            "_model_name": "DescriptionStyleModel",
            "description_width": "",
            "_view_module": "@jupyter-widgets/base",
            "_model_module_version": "1.5.0",
            "_view_count": null,
            "_view_module_version": "1.2.0",
            "_model_module": "@jupyter-widgets/controls"
          }
        },
        "f4e4f24d040f43879d36c848133b0e3a": {
          "model_module": "@jupyter-widgets/base",
          "model_name": "LayoutModel",
          "model_module_version": "1.2.0",
          "state": {
            "_view_name": "LayoutView",
            "grid_template_rows": null,
            "right": null,
            "justify_content": null,
            "_view_module": "@jupyter-widgets/base",
            "overflow": null,
            "_model_module_version": "1.2.0",
            "_view_count": null,
            "flex_flow": null,
            "width": null,
            "min_width": null,
            "border": null,
            "align_items": null,
            "bottom": null,
            "_model_module": "@jupyter-widgets/base",
            "top": null,
            "grid_column": null,
            "overflow_y": null,
            "overflow_x": null,
            "grid_auto_flow": null,
            "grid_area": null,
            "grid_template_columns": null,
            "flex": null,
            "_model_name": "LayoutModel",
            "justify_items": null,
            "grid_row": null,
            "max_height": null,
            "align_content": null,
            "visibility": null,
            "align_self": null,
            "height": null,
            "min_height": null,
            "padding": null,
            "grid_auto_rows": null,
            "grid_gap": null,
            "max_width": null,
            "order": null,
            "_view_module_version": "1.2.0",
            "grid_template_areas": null,
            "object_position": null,
            "object_fit": null,
            "grid_auto_columns": null,
            "margin": null,
            "display": null,
            "left": null
          }
        },
        "c8e47ca21ecf4302a87f2728a3093449": {
          "model_module": "@jupyter-widgets/controls",
          "model_name": "ProgressStyleModel",
          "model_module_version": "1.5.0",
          "state": {
            "_view_name": "StyleView",
            "_model_name": "ProgressStyleModel",
            "description_width": "",
            "_view_module": "@jupyter-widgets/base",
            "_model_module_version": "1.5.0",
            "_view_count": null,
            "_view_module_version": "1.2.0",
            "bar_color": null,
            "_model_module": "@jupyter-widgets/controls"
          }
        },
        "52f6fa679a294d5991a21c6b0d1a81ca": {
          "model_module": "@jupyter-widgets/base",
          "model_name": "LayoutModel",
          "model_module_version": "1.2.0",
          "state": {
            "_view_name": "LayoutView",
            "grid_template_rows": null,
            "right": null,
            "justify_content": null,
            "_view_module": "@jupyter-widgets/base",
            "overflow": null,
            "_model_module_version": "1.2.0",
            "_view_count": null,
            "flex_flow": null,
            "width": null,
            "min_width": null,
            "border": null,
            "align_items": null,
            "bottom": null,
            "_model_module": "@jupyter-widgets/base",
            "top": null,
            "grid_column": null,
            "overflow_y": null,
            "overflow_x": null,
            "grid_auto_flow": null,
            "grid_area": null,
            "grid_template_columns": null,
            "flex": null,
            "_model_name": "LayoutModel",
            "justify_items": null,
            "grid_row": null,
            "max_height": null,
            "align_content": null,
            "visibility": null,
            "align_self": null,
            "height": null,
            "min_height": null,
            "padding": null,
            "grid_auto_rows": null,
            "grid_gap": null,
            "max_width": null,
            "order": null,
            "_view_module_version": "1.2.0",
            "grid_template_areas": null,
            "object_position": null,
            "object_fit": null,
            "grid_auto_columns": null,
            "margin": null,
            "display": null,
            "left": null
          }
        },
        "a4e3d29e331e47a187a3f064fe15fc57": {
          "model_module": "@jupyter-widgets/controls",
          "model_name": "DescriptionStyleModel",
          "model_module_version": "1.5.0",
          "state": {
            "_view_name": "StyleView",
            "_model_name": "DescriptionStyleModel",
            "description_width": "",
            "_view_module": "@jupyter-widgets/base",
            "_model_module_version": "1.5.0",
            "_view_count": null,
            "_view_module_version": "1.2.0",
            "_model_module": "@jupyter-widgets/controls"
          }
        },
        "d62a7804180f4d93b42125d627a2c38b": {
          "model_module": "@jupyter-widgets/base",
          "model_name": "LayoutModel",
          "model_module_version": "1.2.0",
          "state": {
            "_view_name": "LayoutView",
            "grid_template_rows": null,
            "right": null,
            "justify_content": null,
            "_view_module": "@jupyter-widgets/base",
            "overflow": null,
            "_model_module_version": "1.2.0",
            "_view_count": null,
            "flex_flow": null,
            "width": null,
            "min_width": null,
            "border": null,
            "align_items": null,
            "bottom": null,
            "_model_module": "@jupyter-widgets/base",
            "top": null,
            "grid_column": null,
            "overflow_y": null,
            "overflow_x": null,
            "grid_auto_flow": null,
            "grid_area": null,
            "grid_template_columns": null,
            "flex": null,
            "_model_name": "LayoutModel",
            "justify_items": null,
            "grid_row": null,
            "max_height": null,
            "align_content": null,
            "visibility": null,
            "align_self": null,
            "height": null,
            "min_height": null,
            "padding": null,
            "grid_auto_rows": null,
            "grid_gap": null,
            "max_width": null,
            "order": null,
            "_view_module_version": "1.2.0",
            "grid_template_areas": null,
            "object_position": null,
            "object_fit": null,
            "grid_auto_columns": null,
            "margin": null,
            "display": null,
            "left": null
          }
        },
        "1f3f9f1313924d458329be2c072ecaff": {
          "model_module": "@jupyter-widgets/controls",
          "model_name": "HBoxModel",
          "model_module_version": "1.5.0",
          "state": {
            "_view_name": "HBoxView",
            "_dom_classes": [],
            "_model_name": "HBoxModel",
            "_view_module": "@jupyter-widgets/controls",
            "_model_module_version": "1.5.0",
            "_view_count": null,
            "_view_module_version": "1.5.0",
            "box_style": "",
            "layout": "IPY_MODEL_bd2a843af99347e8956b7caccb8c166d",
            "_model_module": "@jupyter-widgets/controls",
            "children": [
              "IPY_MODEL_c5e94acd768c411aace8c712ca8dec43",
              "IPY_MODEL_c86f02c67feb4531af4d0866aa337396",
              "IPY_MODEL_671ce62755734f4c963368c2344f1537"
            ]
          }
        },
        "bd2a843af99347e8956b7caccb8c166d": {
          "model_module": "@jupyter-widgets/base",
          "model_name": "LayoutModel",
          "model_module_version": "1.2.0",
          "state": {
            "_view_name": "LayoutView",
            "grid_template_rows": null,
            "right": null,
            "justify_content": null,
            "_view_module": "@jupyter-widgets/base",
            "overflow": null,
            "_model_module_version": "1.2.0",
            "_view_count": null,
            "flex_flow": null,
            "width": null,
            "min_width": null,
            "border": null,
            "align_items": null,
            "bottom": null,
            "_model_module": "@jupyter-widgets/base",
            "top": null,
            "grid_column": null,
            "overflow_y": null,
            "overflow_x": null,
            "grid_auto_flow": null,
            "grid_area": null,
            "grid_template_columns": null,
            "flex": null,
            "_model_name": "LayoutModel",
            "justify_items": null,
            "grid_row": null,
            "max_height": null,
            "align_content": null,
            "visibility": null,
            "align_self": null,
            "height": null,
            "min_height": null,
            "padding": null,
            "grid_auto_rows": null,
            "grid_gap": null,
            "max_width": null,
            "order": null,
            "_view_module_version": "1.2.0",
            "grid_template_areas": null,
            "object_position": null,
            "object_fit": null,
            "grid_auto_columns": null,
            "margin": null,
            "display": null,
            "left": null
          }
        },
        "c5e94acd768c411aace8c712ca8dec43": {
          "model_module": "@jupyter-widgets/controls",
          "model_name": "HTMLModel",
          "model_module_version": "1.5.0",
          "state": {
            "_view_name": "HTMLView",
            "style": "IPY_MODEL_fc9c62dc636047aca96d8a5df2eb09a3",
            "_dom_classes": [],
            "description": "",
            "_model_name": "HTMLModel",
            "placeholder": "​",
            "_view_module": "@jupyter-widgets/controls",
            "_model_module_version": "1.5.0",
            "value": "",
            "_view_count": null,
            "_view_module_version": "1.5.0",
            "description_tooltip": null,
            "_model_module": "@jupyter-widgets/controls",
            "layout": "IPY_MODEL_00b97c33606244a2a3a51476e8ec2a14"
          }
        },
        "c86f02c67feb4531af4d0866aa337396": {
          "model_module": "@jupyter-widgets/controls",
          "model_name": "FloatProgressModel",
          "model_module_version": "1.5.0",
          "state": {
            "_view_name": "ProgressView",
            "style": "IPY_MODEL_935d899484a6491ab1b000ffa089c6f2",
            "_dom_classes": [],
            "description": "",
            "_model_name": "FloatProgressModel",
            "bar_style": "success",
            "max": 28881,
            "_view_module": "@jupyter-widgets/controls",
            "_model_module_version": "1.5.0",
            "value": 28881,
            "_view_count": null,
            "_view_module_version": "1.5.0",
            "orientation": "horizontal",
            "min": 0,
            "description_tooltip": null,
            "_model_module": "@jupyter-widgets/controls",
            "layout": "IPY_MODEL_db2e06a415cf49c681733d464e0461de"
          }
        },
        "671ce62755734f4c963368c2344f1537": {
          "model_module": "@jupyter-widgets/controls",
          "model_name": "HTMLModel",
          "model_module_version": "1.5.0",
          "state": {
            "_view_name": "HTMLView",
            "style": "IPY_MODEL_1100e8a360af4354a5dddfe3ca914872",
            "_dom_classes": [],
            "description": "",
            "_model_name": "HTMLModel",
            "placeholder": "​",
            "_view_module": "@jupyter-widgets/controls",
            "_model_module_version": "1.5.0",
            "value": " 29696/? [00:00&lt;00:00, 481789.12it/s]",
            "_view_count": null,
            "_view_module_version": "1.5.0",
            "description_tooltip": null,
            "_model_module": "@jupyter-widgets/controls",
            "layout": "IPY_MODEL_fd0123364bed43dcb316fed7be9774fc"
          }
        },
        "fc9c62dc636047aca96d8a5df2eb09a3": {
          "model_module": "@jupyter-widgets/controls",
          "model_name": "DescriptionStyleModel",
          "model_module_version": "1.5.0",
          "state": {
            "_view_name": "StyleView",
            "_model_name": "DescriptionStyleModel",
            "description_width": "",
            "_view_module": "@jupyter-widgets/base",
            "_model_module_version": "1.5.0",
            "_view_count": null,
            "_view_module_version": "1.2.0",
            "_model_module": "@jupyter-widgets/controls"
          }
        },
        "00b97c33606244a2a3a51476e8ec2a14": {
          "model_module": "@jupyter-widgets/base",
          "model_name": "LayoutModel",
          "model_module_version": "1.2.0",
          "state": {
            "_view_name": "LayoutView",
            "grid_template_rows": null,
            "right": null,
            "justify_content": null,
            "_view_module": "@jupyter-widgets/base",
            "overflow": null,
            "_model_module_version": "1.2.0",
            "_view_count": null,
            "flex_flow": null,
            "width": null,
            "min_width": null,
            "border": null,
            "align_items": null,
            "bottom": null,
            "_model_module": "@jupyter-widgets/base",
            "top": null,
            "grid_column": null,
            "overflow_y": null,
            "overflow_x": null,
            "grid_auto_flow": null,
            "grid_area": null,
            "grid_template_columns": null,
            "flex": null,
            "_model_name": "LayoutModel",
            "justify_items": null,
            "grid_row": null,
            "max_height": null,
            "align_content": null,
            "visibility": null,
            "align_self": null,
            "height": null,
            "min_height": null,
            "padding": null,
            "grid_auto_rows": null,
            "grid_gap": null,
            "max_width": null,
            "order": null,
            "_view_module_version": "1.2.0",
            "grid_template_areas": null,
            "object_position": null,
            "object_fit": null,
            "grid_auto_columns": null,
            "margin": null,
            "display": null,
            "left": null
          }
        },
        "935d899484a6491ab1b000ffa089c6f2": {
          "model_module": "@jupyter-widgets/controls",
          "model_name": "ProgressStyleModel",
          "model_module_version": "1.5.0",
          "state": {
            "_view_name": "StyleView",
            "_model_name": "ProgressStyleModel",
            "description_width": "",
            "_view_module": "@jupyter-widgets/base",
            "_model_module_version": "1.5.0",
            "_view_count": null,
            "_view_module_version": "1.2.0",
            "bar_color": null,
            "_model_module": "@jupyter-widgets/controls"
          }
        },
        "db2e06a415cf49c681733d464e0461de": {
          "model_module": "@jupyter-widgets/base",
          "model_name": "LayoutModel",
          "model_module_version": "1.2.0",
          "state": {
            "_view_name": "LayoutView",
            "grid_template_rows": null,
            "right": null,
            "justify_content": null,
            "_view_module": "@jupyter-widgets/base",
            "overflow": null,
            "_model_module_version": "1.2.0",
            "_view_count": null,
            "flex_flow": null,
            "width": null,
            "min_width": null,
            "border": null,
            "align_items": null,
            "bottom": null,
            "_model_module": "@jupyter-widgets/base",
            "top": null,
            "grid_column": null,
            "overflow_y": null,
            "overflow_x": null,
            "grid_auto_flow": null,
            "grid_area": null,
            "grid_template_columns": null,
            "flex": null,
            "_model_name": "LayoutModel",
            "justify_items": null,
            "grid_row": null,
            "max_height": null,
            "align_content": null,
            "visibility": null,
            "align_self": null,
            "height": null,
            "min_height": null,
            "padding": null,
            "grid_auto_rows": null,
            "grid_gap": null,
            "max_width": null,
            "order": null,
            "_view_module_version": "1.2.0",
            "grid_template_areas": null,
            "object_position": null,
            "object_fit": null,
            "grid_auto_columns": null,
            "margin": null,
            "display": null,
            "left": null
          }
        },
        "1100e8a360af4354a5dddfe3ca914872": {
          "model_module": "@jupyter-widgets/controls",
          "model_name": "DescriptionStyleModel",
          "model_module_version": "1.5.0",
          "state": {
            "_view_name": "StyleView",
            "_model_name": "DescriptionStyleModel",
            "description_width": "",
            "_view_module": "@jupyter-widgets/base",
            "_model_module_version": "1.5.0",
            "_view_count": null,
            "_view_module_version": "1.2.0",
            "_model_module": "@jupyter-widgets/controls"
          }
        },
        "fd0123364bed43dcb316fed7be9774fc": {
          "model_module": "@jupyter-widgets/base",
          "model_name": "LayoutModel",
          "model_module_version": "1.2.0",
          "state": {
            "_view_name": "LayoutView",
            "grid_template_rows": null,
            "right": null,
            "justify_content": null,
            "_view_module": "@jupyter-widgets/base",
            "overflow": null,
            "_model_module_version": "1.2.0",
            "_view_count": null,
            "flex_flow": null,
            "width": null,
            "min_width": null,
            "border": null,
            "align_items": null,
            "bottom": null,
            "_model_module": "@jupyter-widgets/base",
            "top": null,
            "grid_column": null,
            "overflow_y": null,
            "overflow_x": null,
            "grid_auto_flow": null,
            "grid_area": null,
            "grid_template_columns": null,
            "flex": null,
            "_model_name": "LayoutModel",
            "justify_items": null,
            "grid_row": null,
            "max_height": null,
            "align_content": null,
            "visibility": null,
            "align_self": null,
            "height": null,
            "min_height": null,
            "padding": null,
            "grid_auto_rows": null,
            "grid_gap": null,
            "max_width": null,
            "order": null,
            "_view_module_version": "1.2.0",
            "grid_template_areas": null,
            "object_position": null,
            "object_fit": null,
            "grid_auto_columns": null,
            "margin": null,
            "display": null,
            "left": null
          }
        },
        "3376c008f79e424db3ec0f24a27a7e81": {
          "model_module": "@jupyter-widgets/controls",
          "model_name": "HBoxModel",
          "model_module_version": "1.5.0",
          "state": {
            "_view_name": "HBoxView",
            "_dom_classes": [],
            "_model_name": "HBoxModel",
            "_view_module": "@jupyter-widgets/controls",
            "_model_module_version": "1.5.0",
            "_view_count": null,
            "_view_module_version": "1.5.0",
            "box_style": "",
            "layout": "IPY_MODEL_386969ada9614d5c9f9b918ce667ee3d",
            "_model_module": "@jupyter-widgets/controls",
            "children": [
              "IPY_MODEL_30509255d6a14e11bcabb846b223dfed",
              "IPY_MODEL_211bbab0ba754296b3f0ecc1e769aa11",
              "IPY_MODEL_c7fef03bcc324ca1a13ad685d4469abd"
            ]
          }
        },
        "386969ada9614d5c9f9b918ce667ee3d": {
          "model_module": "@jupyter-widgets/base",
          "model_name": "LayoutModel",
          "model_module_version": "1.2.0",
          "state": {
            "_view_name": "LayoutView",
            "grid_template_rows": null,
            "right": null,
            "justify_content": null,
            "_view_module": "@jupyter-widgets/base",
            "overflow": null,
            "_model_module_version": "1.2.0",
            "_view_count": null,
            "flex_flow": null,
            "width": null,
            "min_width": null,
            "border": null,
            "align_items": null,
            "bottom": null,
            "_model_module": "@jupyter-widgets/base",
            "top": null,
            "grid_column": null,
            "overflow_y": null,
            "overflow_x": null,
            "grid_auto_flow": null,
            "grid_area": null,
            "grid_template_columns": null,
            "flex": null,
            "_model_name": "LayoutModel",
            "justify_items": null,
            "grid_row": null,
            "max_height": null,
            "align_content": null,
            "visibility": null,
            "align_self": null,
            "height": null,
            "min_height": null,
            "padding": null,
            "grid_auto_rows": null,
            "grid_gap": null,
            "max_width": null,
            "order": null,
            "_view_module_version": "1.2.0",
            "grid_template_areas": null,
            "object_position": null,
            "object_fit": null,
            "grid_auto_columns": null,
            "margin": null,
            "display": null,
            "left": null
          }
        },
        "30509255d6a14e11bcabb846b223dfed": {
          "model_module": "@jupyter-widgets/controls",
          "model_name": "HTMLModel",
          "model_module_version": "1.5.0",
          "state": {
            "_view_name": "HTMLView",
            "style": "IPY_MODEL_113fee74fcc544a39b6496552ba0de51",
            "_dom_classes": [],
            "description": "",
            "_model_name": "HTMLModel",
            "placeholder": "​",
            "_view_module": "@jupyter-widgets/controls",
            "_model_module_version": "1.5.0",
            "value": "",
            "_view_count": null,
            "_view_module_version": "1.5.0",
            "description_tooltip": null,
            "_model_module": "@jupyter-widgets/controls",
            "layout": "IPY_MODEL_99253902ce3447608a4fedc0b14b8597"
          }
        },
        "211bbab0ba754296b3f0ecc1e769aa11": {
          "model_module": "@jupyter-widgets/controls",
          "model_name": "FloatProgressModel",
          "model_module_version": "1.5.0",
          "state": {
            "_view_name": "ProgressView",
            "style": "IPY_MODEL_ffdff65ad9be49e888aeb00be54d4641",
            "_dom_classes": [],
            "description": "",
            "_model_name": "FloatProgressModel",
            "bar_style": "success",
            "max": 1648877,
            "_view_module": "@jupyter-widgets/controls",
            "_model_module_version": "1.5.0",
            "value": 1648877,
            "_view_count": null,
            "_view_module_version": "1.5.0",
            "orientation": "horizontal",
            "min": 0,
            "description_tooltip": null,
            "_model_module": "@jupyter-widgets/controls",
            "layout": "IPY_MODEL_edcc2706a88f450a8bda5351f23395f3"
          }
        },
        "c7fef03bcc324ca1a13ad685d4469abd": {
          "model_module": "@jupyter-widgets/controls",
          "model_name": "HTMLModel",
          "model_module_version": "1.5.0",
          "state": {
            "_view_name": "HTMLView",
            "style": "IPY_MODEL_0998252cadc7404bb0319712925f3ceb",
            "_dom_classes": [],
            "description": "",
            "_model_name": "HTMLModel",
            "placeholder": "​",
            "_view_module": "@jupyter-widgets/controls",
            "_model_module_version": "1.5.0",
            "value": " 1649664/? [00:00&lt;00:00, 4963826.31it/s]",
            "_view_count": null,
            "_view_module_version": "1.5.0",
            "description_tooltip": null,
            "_model_module": "@jupyter-widgets/controls",
            "layout": "IPY_MODEL_faae8dbbe6ce419fab9429b19d0844a1"
          }
        },
        "113fee74fcc544a39b6496552ba0de51": {
          "model_module": "@jupyter-widgets/controls",
          "model_name": "DescriptionStyleModel",
          "model_module_version": "1.5.0",
          "state": {
            "_view_name": "StyleView",
            "_model_name": "DescriptionStyleModel",
            "description_width": "",
            "_view_module": "@jupyter-widgets/base",
            "_model_module_version": "1.5.0",
            "_view_count": null,
            "_view_module_version": "1.2.0",
            "_model_module": "@jupyter-widgets/controls"
          }
        },
        "99253902ce3447608a4fedc0b14b8597": {
          "model_module": "@jupyter-widgets/base",
          "model_name": "LayoutModel",
          "model_module_version": "1.2.0",
          "state": {
            "_view_name": "LayoutView",
            "grid_template_rows": null,
            "right": null,
            "justify_content": null,
            "_view_module": "@jupyter-widgets/base",
            "overflow": null,
            "_model_module_version": "1.2.0",
            "_view_count": null,
            "flex_flow": null,
            "width": null,
            "min_width": null,
            "border": null,
            "align_items": null,
            "bottom": null,
            "_model_module": "@jupyter-widgets/base",
            "top": null,
            "grid_column": null,
            "overflow_y": null,
            "overflow_x": null,
            "grid_auto_flow": null,
            "grid_area": null,
            "grid_template_columns": null,
            "flex": null,
            "_model_name": "LayoutModel",
            "justify_items": null,
            "grid_row": null,
            "max_height": null,
            "align_content": null,
            "visibility": null,
            "align_self": null,
            "height": null,
            "min_height": null,
            "padding": null,
            "grid_auto_rows": null,
            "grid_gap": null,
            "max_width": null,
            "order": null,
            "_view_module_version": "1.2.0",
            "grid_template_areas": null,
            "object_position": null,
            "object_fit": null,
            "grid_auto_columns": null,
            "margin": null,
            "display": null,
            "left": null
          }
        },
        "ffdff65ad9be49e888aeb00be54d4641": {
          "model_module": "@jupyter-widgets/controls",
          "model_name": "ProgressStyleModel",
          "model_module_version": "1.5.0",
          "state": {
            "_view_name": "StyleView",
            "_model_name": "ProgressStyleModel",
            "description_width": "",
            "_view_module": "@jupyter-widgets/base",
            "_model_module_version": "1.5.0",
            "_view_count": null,
            "_view_module_version": "1.2.0",
            "bar_color": null,
            "_model_module": "@jupyter-widgets/controls"
          }
        },
        "edcc2706a88f450a8bda5351f23395f3": {
          "model_module": "@jupyter-widgets/base",
          "model_name": "LayoutModel",
          "model_module_version": "1.2.0",
          "state": {
            "_view_name": "LayoutView",
            "grid_template_rows": null,
            "right": null,
            "justify_content": null,
            "_view_module": "@jupyter-widgets/base",
            "overflow": null,
            "_model_module_version": "1.2.0",
            "_view_count": null,
            "flex_flow": null,
            "width": null,
            "min_width": null,
            "border": null,
            "align_items": null,
            "bottom": null,
            "_model_module": "@jupyter-widgets/base",
            "top": null,
            "grid_column": null,
            "overflow_y": null,
            "overflow_x": null,
            "grid_auto_flow": null,
            "grid_area": null,
            "grid_template_columns": null,
            "flex": null,
            "_model_name": "LayoutModel",
            "justify_items": null,
            "grid_row": null,
            "max_height": null,
            "align_content": null,
            "visibility": null,
            "align_self": null,
            "height": null,
            "min_height": null,
            "padding": null,
            "grid_auto_rows": null,
            "grid_gap": null,
            "max_width": null,
            "order": null,
            "_view_module_version": "1.2.0",
            "grid_template_areas": null,
            "object_position": null,
            "object_fit": null,
            "grid_auto_columns": null,
            "margin": null,
            "display": null,
            "left": null
          }
        },
        "0998252cadc7404bb0319712925f3ceb": {
          "model_module": "@jupyter-widgets/controls",
          "model_name": "DescriptionStyleModel",
          "model_module_version": "1.5.0",
          "state": {
            "_view_name": "StyleView",
            "_model_name": "DescriptionStyleModel",
            "description_width": "",
            "_view_module": "@jupyter-widgets/base",
            "_model_module_version": "1.5.0",
            "_view_count": null,
            "_view_module_version": "1.2.0",
            "_model_module": "@jupyter-widgets/controls"
          }
        },
        "faae8dbbe6ce419fab9429b19d0844a1": {
          "model_module": "@jupyter-widgets/base",
          "model_name": "LayoutModel",
          "model_module_version": "1.2.0",
          "state": {
            "_view_name": "LayoutView",
            "grid_template_rows": null,
            "right": null,
            "justify_content": null,
            "_view_module": "@jupyter-widgets/base",
            "overflow": null,
            "_model_module_version": "1.2.0",
            "_view_count": null,
            "flex_flow": null,
            "width": null,
            "min_width": null,
            "border": null,
            "align_items": null,
            "bottom": null,
            "_model_module": "@jupyter-widgets/base",
            "top": null,
            "grid_column": null,
            "overflow_y": null,
            "overflow_x": null,
            "grid_auto_flow": null,
            "grid_area": null,
            "grid_template_columns": null,
            "flex": null,
            "_model_name": "LayoutModel",
            "justify_items": null,
            "grid_row": null,
            "max_height": null,
            "align_content": null,
            "visibility": null,
            "align_self": null,
            "height": null,
            "min_height": null,
            "padding": null,
            "grid_auto_rows": null,
            "grid_gap": null,
            "max_width": null,
            "order": null,
            "_view_module_version": "1.2.0",
            "grid_template_areas": null,
            "object_position": null,
            "object_fit": null,
            "grid_auto_columns": null,
            "margin": null,
            "display": null,
            "left": null
          }
        },
        "c1d67c3dfe5442c482accbebf2a03fe5": {
          "model_module": "@jupyter-widgets/controls",
          "model_name": "HBoxModel",
          "model_module_version": "1.5.0",
          "state": {
            "_view_name": "HBoxView",
            "_dom_classes": [],
            "_model_name": "HBoxModel",
            "_view_module": "@jupyter-widgets/controls",
            "_model_module_version": "1.5.0",
            "_view_count": null,
            "_view_module_version": "1.5.0",
            "box_style": "",
            "layout": "IPY_MODEL_0af76db853f245ea8c281155f775f02c",
            "_model_module": "@jupyter-widgets/controls",
            "children": [
              "IPY_MODEL_f67f535c426f46d9a0b3c0f532760e41",
              "IPY_MODEL_3d4434779ed7436f98466f97f5e09c7d",
              "IPY_MODEL_59ee77b5cb704255a18b81dc422419b5"
            ]
          }
        },
        "0af76db853f245ea8c281155f775f02c": {
          "model_module": "@jupyter-widgets/base",
          "model_name": "LayoutModel",
          "model_module_version": "1.2.0",
          "state": {
            "_view_name": "LayoutView",
            "grid_template_rows": null,
            "right": null,
            "justify_content": null,
            "_view_module": "@jupyter-widgets/base",
            "overflow": null,
            "_model_module_version": "1.2.0",
            "_view_count": null,
            "flex_flow": null,
            "width": null,
            "min_width": null,
            "border": null,
            "align_items": null,
            "bottom": null,
            "_model_module": "@jupyter-widgets/base",
            "top": null,
            "grid_column": null,
            "overflow_y": null,
            "overflow_x": null,
            "grid_auto_flow": null,
            "grid_area": null,
            "grid_template_columns": null,
            "flex": null,
            "_model_name": "LayoutModel",
            "justify_items": null,
            "grid_row": null,
            "max_height": null,
            "align_content": null,
            "visibility": null,
            "align_self": null,
            "height": null,
            "min_height": null,
            "padding": null,
            "grid_auto_rows": null,
            "grid_gap": null,
            "max_width": null,
            "order": null,
            "_view_module_version": "1.2.0",
            "grid_template_areas": null,
            "object_position": null,
            "object_fit": null,
            "grid_auto_columns": null,
            "margin": null,
            "display": null,
            "left": null
          }
        },
        "f67f535c426f46d9a0b3c0f532760e41": {
          "model_module": "@jupyter-widgets/controls",
          "model_name": "HTMLModel",
          "model_module_version": "1.5.0",
          "state": {
            "_view_name": "HTMLView",
            "style": "IPY_MODEL_439795bf5ce7475795a60801f2fb01b6",
            "_dom_classes": [],
            "description": "",
            "_model_name": "HTMLModel",
            "placeholder": "​",
            "_view_module": "@jupyter-widgets/controls",
            "_model_module_version": "1.5.0",
            "value": "",
            "_view_count": null,
            "_view_module_version": "1.5.0",
            "description_tooltip": null,
            "_model_module": "@jupyter-widgets/controls",
            "layout": "IPY_MODEL_b43847052b204ec492f93258abce1cb7"
          }
        },
        "3d4434779ed7436f98466f97f5e09c7d": {
          "model_module": "@jupyter-widgets/controls",
          "model_name": "FloatProgressModel",
          "model_module_version": "1.5.0",
          "state": {
            "_view_name": "ProgressView",
            "style": "IPY_MODEL_e72ab11ea82e482eb09674783e842f58",
            "_dom_classes": [],
            "description": "",
            "_model_name": "FloatProgressModel",
            "bar_style": "success",
            "max": 4542,
            "_view_module": "@jupyter-widgets/controls",
            "_model_module_version": "1.5.0",
            "value": 4542,
            "_view_count": null,
            "_view_module_version": "1.5.0",
            "orientation": "horizontal",
            "min": 0,
            "description_tooltip": null,
            "_model_module": "@jupyter-widgets/controls",
            "layout": "IPY_MODEL_95538ddfb76647fb831449d7a8419323"
          }
        },
        "59ee77b5cb704255a18b81dc422419b5": {
          "model_module": "@jupyter-widgets/controls",
          "model_name": "HTMLModel",
          "model_module_version": "1.5.0",
          "state": {
            "_view_name": "HTMLView",
            "style": "IPY_MODEL_f7a9f3fb20f840259264682c4b55cc57",
            "_dom_classes": [],
            "description": "",
            "_model_name": "HTMLModel",
            "placeholder": "​",
            "_view_module": "@jupyter-widgets/controls",
            "_model_module_version": "1.5.0",
            "value": " 5120/? [00:00&lt;00:00, 91906.34it/s]",
            "_view_count": null,
            "_view_module_version": "1.5.0",
            "description_tooltip": null,
            "_model_module": "@jupyter-widgets/controls",
            "layout": "IPY_MODEL_800b6217aee345169eac4f4e45a8d14b"
          }
        },
        "439795bf5ce7475795a60801f2fb01b6": {
          "model_module": "@jupyter-widgets/controls",
          "model_name": "DescriptionStyleModel",
          "model_module_version": "1.5.0",
          "state": {
            "_view_name": "StyleView",
            "_model_name": "DescriptionStyleModel",
            "description_width": "",
            "_view_module": "@jupyter-widgets/base",
            "_model_module_version": "1.5.0",
            "_view_count": null,
            "_view_module_version": "1.2.0",
            "_model_module": "@jupyter-widgets/controls"
          }
        },
        "b43847052b204ec492f93258abce1cb7": {
          "model_module": "@jupyter-widgets/base",
          "model_name": "LayoutModel",
          "model_module_version": "1.2.0",
          "state": {
            "_view_name": "LayoutView",
            "grid_template_rows": null,
            "right": null,
            "justify_content": null,
            "_view_module": "@jupyter-widgets/base",
            "overflow": null,
            "_model_module_version": "1.2.0",
            "_view_count": null,
            "flex_flow": null,
            "width": null,
            "min_width": null,
            "border": null,
            "align_items": null,
            "bottom": null,
            "_model_module": "@jupyter-widgets/base",
            "top": null,
            "grid_column": null,
            "overflow_y": null,
            "overflow_x": null,
            "grid_auto_flow": null,
            "grid_area": null,
            "grid_template_columns": null,
            "flex": null,
            "_model_name": "LayoutModel",
            "justify_items": null,
            "grid_row": null,
            "max_height": null,
            "align_content": null,
            "visibility": null,
            "align_self": null,
            "height": null,
            "min_height": null,
            "padding": null,
            "grid_auto_rows": null,
            "grid_gap": null,
            "max_width": null,
            "order": null,
            "_view_module_version": "1.2.0",
            "grid_template_areas": null,
            "object_position": null,
            "object_fit": null,
            "grid_auto_columns": null,
            "margin": null,
            "display": null,
            "left": null
          }
        },
        "e72ab11ea82e482eb09674783e842f58": {
          "model_module": "@jupyter-widgets/controls",
          "model_name": "ProgressStyleModel",
          "model_module_version": "1.5.0",
          "state": {
            "_view_name": "StyleView",
            "_model_name": "ProgressStyleModel",
            "description_width": "",
            "_view_module": "@jupyter-widgets/base",
            "_model_module_version": "1.5.0",
            "_view_count": null,
            "_view_module_version": "1.2.0",
            "bar_color": null,
            "_model_module": "@jupyter-widgets/controls"
          }
        },
        "95538ddfb76647fb831449d7a8419323": {
          "model_module": "@jupyter-widgets/base",
          "model_name": "LayoutModel",
          "model_module_version": "1.2.0",
          "state": {
            "_view_name": "LayoutView",
            "grid_template_rows": null,
            "right": null,
            "justify_content": null,
            "_view_module": "@jupyter-widgets/base",
            "overflow": null,
            "_model_module_version": "1.2.0",
            "_view_count": null,
            "flex_flow": null,
            "width": null,
            "min_width": null,
            "border": null,
            "align_items": null,
            "bottom": null,
            "_model_module": "@jupyter-widgets/base",
            "top": null,
            "grid_column": null,
            "overflow_y": null,
            "overflow_x": null,
            "grid_auto_flow": null,
            "grid_area": null,
            "grid_template_columns": null,
            "flex": null,
            "_model_name": "LayoutModel",
            "justify_items": null,
            "grid_row": null,
            "max_height": null,
            "align_content": null,
            "visibility": null,
            "align_self": null,
            "height": null,
            "min_height": null,
            "padding": null,
            "grid_auto_rows": null,
            "grid_gap": null,
            "max_width": null,
            "order": null,
            "_view_module_version": "1.2.0",
            "grid_template_areas": null,
            "object_position": null,
            "object_fit": null,
            "grid_auto_columns": null,
            "margin": null,
            "display": null,
            "left": null
          }
        },
        "f7a9f3fb20f840259264682c4b55cc57": {
          "model_module": "@jupyter-widgets/controls",
          "model_name": "DescriptionStyleModel",
          "model_module_version": "1.5.0",
          "state": {
            "_view_name": "StyleView",
            "_model_name": "DescriptionStyleModel",
            "description_width": "",
            "_view_module": "@jupyter-widgets/base",
            "_model_module_version": "1.5.0",
            "_view_count": null,
            "_view_module_version": "1.2.0",
            "_model_module": "@jupyter-widgets/controls"
          }
        },
        "800b6217aee345169eac4f4e45a8d14b": {
          "model_module": "@jupyter-widgets/base",
          "model_name": "LayoutModel",
          "model_module_version": "1.2.0",
          "state": {
            "_view_name": "LayoutView",
            "grid_template_rows": null,
            "right": null,
            "justify_content": null,
            "_view_module": "@jupyter-widgets/base",
            "overflow": null,
            "_model_module_version": "1.2.0",
            "_view_count": null,
            "flex_flow": null,
            "width": null,
            "min_width": null,
            "border": null,
            "align_items": null,
            "bottom": null,
            "_model_module": "@jupyter-widgets/base",
            "top": null,
            "grid_column": null,
            "overflow_y": null,
            "overflow_x": null,
            "grid_auto_flow": null,
            "grid_area": null,
            "grid_template_columns": null,
            "flex": null,
            "_model_name": "LayoutModel",
            "justify_items": null,
            "grid_row": null,
            "max_height": null,
            "align_content": null,
            "visibility": null,
            "align_self": null,
            "height": null,
            "min_height": null,
            "padding": null,
            "grid_auto_rows": null,
            "grid_gap": null,
            "max_width": null,
            "order": null,
            "_view_module_version": "1.2.0",
            "grid_template_areas": null,
            "object_position": null,
            "object_fit": null,
            "grid_auto_columns": null,
            "margin": null,
            "display": null,
            "left": null
          }
        }
      }
    }
  },
  "cells": [
    {
      "cell_type": "markdown",
      "metadata": {
        "id": "view-in-github",
        "colab_type": "text"
      },
      "source": [
        "<a href=\"https://colab.research.google.com/github/webmostafij/DDProject/blob/main/17182103086.ipynb\" target=\"_parent\"><img src=\"https://colab.research.google.com/assets/colab-badge.svg\" alt=\"Open In Colab\"/></a>"
      ]
    },
    {
      "cell_type": "code",
      "metadata": {
        "id": "lekB0j-YtH3y",
        "colab": {
          "base_uri": "https://localhost:8080/"
        },
        "outputId": "5bb99490-2b70-430a-9c3d-ded6b10e275f"
      },
      "source": [
        "import os\n",
        "import sys\n",
        "import math\n",
        "import random\n",
        "\n",
        "import numpy as np\n",
        "import matplotlib.pyplot as plt\n",
        "from PIL import Image\n",
        "\n",
        "import torch\n",
        "import torch.nn as nn\n",
        "import torch.nn.functional as F\n",
        "import torch.optim as optim\n",
        "from torch import Tensor\n",
        "from torch.autograd import grad\n",
        "\n",
        "import torchvision\n",
        "import torchvision.datasets as datasets\n",
        "import torchvision.transforms as transforms\n",
        "from torch.autograd import Variable\n",
        "\n",
        "if 'higher' not in sys.modules:\n",
        "  !pip install higher\n",
        "import higher as higher\n",
        "\n",
        "print(sys.version)\n",
        "print(torch.__version__)"
      ],
      "execution_count": null,
      "outputs": [
        {
          "output_type": "stream",
          "name": "stdout",
          "text": [
            "Collecting higher\n",
            "  Downloading higher-0.2.1-py3-none-any.whl (27 kB)\n",
            "Requirement already satisfied: torch in /usr/local/lib/python3.7/dist-packages (from higher) (1.10.0+cu111)\n",
            "Requirement already satisfied: typing-extensions in /usr/local/lib/python3.7/dist-packages (from torch->higher) (3.10.0.2)\n",
            "Installing collected packages: higher\n",
            "Successfully installed higher-0.2.1\n",
            "3.7.12 (default, Jan 15 2022, 18:48:18) \n",
            "[GCC 7.5.0]\n",
            "1.10.0+cu111\n"
          ]
        }
      ]
    },
    {
      "cell_type": "code",
      "metadata": {
        "id": "10Wp24Y017h5"
      },
      "source": [
        "# Set random seeds\n",
        "random.seed(0)\n",
        "torch.manual_seed(0)\n",
        "np.random.seed(0)\n",
        "\n",
        "# Set important parameters\n",
        "learning_rate = 1e-2\n",
        "inner_loop_iterations = 32\n",
        "outer_loop_iterations = 5\n",
        "num_classes = 10\n",
        "\n",
        "noise_size = 64     # size of noise or curriculum vector\n",
        "img_size = 28    # width / height of generated image\n",
        "\n",
        "inner_loop_batch_size = 128\n",
        "outer_loop_batch_size = 128\n",
        "\n",
        "mnist_mean = 0.1307         # for normalizing mnist images\n",
        "mnist_std = 0.3081          # for normalizing mnist images\n",
        "\n",
        "imgs_per_row = num_classes"
      ],
      "execution_count": null,
      "outputs": []
    },
    {
      "cell_type": "markdown",
      "metadata": {
        "id": "Mebq3wsH4HeJ"
      },
      "source": [
        "Dataset"
      ]
    },
    {
      "cell_type": "code",
      "metadata": {
        "id": "pc17E5a6tWWc",
        "colab": {
          "base_uri": "https://localhost:8080/",
          "height": 440,
          "referenced_widgets": [
            "1f5747a53fdc43eb90689342f010ecf2",
            "94a553b6af1e4be293ef17e2e9e8e421",
            "e35ec38af151483db2925a0f711ee8f2",
            "1c369e7d30704e6f9da952e34e1790f1",
            "1fbe002575944a4ba01f109f23428d30",
            "1ce253b2f87246bcb872c16719e9c753",
            "f4e4f24d040f43879d36c848133b0e3a",
            "c8e47ca21ecf4302a87f2728a3093449",
            "52f6fa679a294d5991a21c6b0d1a81ca",
            "a4e3d29e331e47a187a3f064fe15fc57",
            "d62a7804180f4d93b42125d627a2c38b",
            "1f3f9f1313924d458329be2c072ecaff",
            "bd2a843af99347e8956b7caccb8c166d",
            "c5e94acd768c411aace8c712ca8dec43",
            "c86f02c67feb4531af4d0866aa337396",
            "671ce62755734f4c963368c2344f1537",
            "fc9c62dc636047aca96d8a5df2eb09a3",
            "00b97c33606244a2a3a51476e8ec2a14",
            "935d899484a6491ab1b000ffa089c6f2",
            "db2e06a415cf49c681733d464e0461de",
            "1100e8a360af4354a5dddfe3ca914872",
            "fd0123364bed43dcb316fed7be9774fc",
            "3376c008f79e424db3ec0f24a27a7e81",
            "386969ada9614d5c9f9b918ce667ee3d",
            "30509255d6a14e11bcabb846b223dfed",
            "211bbab0ba754296b3f0ecc1e769aa11",
            "c7fef03bcc324ca1a13ad685d4469abd",
            "113fee74fcc544a39b6496552ba0de51",
            "99253902ce3447608a4fedc0b14b8597",
            "ffdff65ad9be49e888aeb00be54d4641",
            "edcc2706a88f450a8bda5351f23395f3",
            "0998252cadc7404bb0319712925f3ceb",
            "faae8dbbe6ce419fab9429b19d0844a1",
            "c1d67c3dfe5442c482accbebf2a03fe5",
            "0af76db853f245ea8c281155f775f02c",
            "f67f535c426f46d9a0b3c0f532760e41",
            "3d4434779ed7436f98466f97f5e09c7d",
            "59ee77b5cb704255a18b81dc422419b5",
            "439795bf5ce7475795a60801f2fb01b6",
            "b43847052b204ec492f93258abce1cb7",
            "e72ab11ea82e482eb09674783e842f58",
            "95538ddfb76647fb831449d7a8419323",
            "f7a9f3fb20f840259264682c4b55cc57",
            "800b6217aee345169eac4f4e45a8d14b"
          ]
        },
        "outputId": "9f70008e-a9b7-4721-a3c6-e94edb7ece86"
      },
      "source": [
        "# Initialize MNIST transforms\n",
        "transform = transforms.Compose([\n",
        "    transforms.Lambda(lambda x: np.array(x)),\n",
        "    transforms.ToTensor(),\n",
        "    transforms.Normalize((mnist_mean,), (mnist_std,)),\n",
        "])\n",
        "\n",
        "# Create data splits\n",
        "train = datasets.MNIST('./data', train=True, transform=transform, download=True)\n",
        "train, val = torch.utils.data.random_split(train, [50000, 10000])\n",
        "test = datasets.MNIST('./data', train=False, transform=transform, download=True)\n",
        "print('Created train, val, and test datasets.')"
      ],
      "execution_count": null,
      "outputs": [
        {
          "output_type": "stream",
          "name": "stdout",
          "text": [
            "Downloading http://yann.lecun.com/exdb/mnist/train-images-idx3-ubyte.gz\n",
            "Downloading http://yann.lecun.com/exdb/mnist/train-images-idx3-ubyte.gz to ./data/MNIST/raw/train-images-idx3-ubyte.gz\n"
          ]
        },
        {
          "output_type": "display_data",
          "data": {
            "application/vnd.jupyter.widget-view+json": {
              "model_id": "1f5747a53fdc43eb90689342f010ecf2",
              "version_minor": 0,
              "version_major": 2
            },
            "text/plain": [
              "  0%|          | 0/9912422 [00:00<?, ?it/s]"
            ]
          },
          "metadata": {}
        },
        {
          "output_type": "stream",
          "name": "stdout",
          "text": [
            "Extracting ./data/MNIST/raw/train-images-idx3-ubyte.gz to ./data/MNIST/raw\n",
            "\n",
            "Downloading http://yann.lecun.com/exdb/mnist/train-labels-idx1-ubyte.gz\n",
            "Downloading http://yann.lecun.com/exdb/mnist/train-labels-idx1-ubyte.gz to ./data/MNIST/raw/train-labels-idx1-ubyte.gz\n"
          ]
        },
        {
          "output_type": "display_data",
          "data": {
            "application/vnd.jupyter.widget-view+json": {
              "model_id": "1f3f9f1313924d458329be2c072ecaff",
              "version_minor": 0,
              "version_major": 2
            },
            "text/plain": [
              "  0%|          | 0/28881 [00:00<?, ?it/s]"
            ]
          },
          "metadata": {}
        },
        {
          "output_type": "stream",
          "name": "stdout",
          "text": [
            "Extracting ./data/MNIST/raw/train-labels-idx1-ubyte.gz to ./data/MNIST/raw\n",
            "\n",
            "Downloading http://yann.lecun.com/exdb/mnist/t10k-images-idx3-ubyte.gz\n",
            "Downloading http://yann.lecun.com/exdb/mnist/t10k-images-idx3-ubyte.gz to ./data/MNIST/raw/t10k-images-idx3-ubyte.gz\n"
          ]
        },
        {
          "output_type": "display_data",
          "data": {
            "application/vnd.jupyter.widget-view+json": {
              "model_id": "3376c008f79e424db3ec0f24a27a7e81",
              "version_minor": 0,
              "version_major": 2
            },
            "text/plain": [
              "  0%|          | 0/1648877 [00:00<?, ?it/s]"
            ]
          },
          "metadata": {}
        },
        {
          "output_type": "stream",
          "name": "stdout",
          "text": [
            "Extracting ./data/MNIST/raw/t10k-images-idx3-ubyte.gz to ./data/MNIST/raw\n",
            "\n",
            "Downloading http://yann.lecun.com/exdb/mnist/t10k-labels-idx1-ubyte.gz\n",
            "Downloading http://yann.lecun.com/exdb/mnist/t10k-labels-idx1-ubyte.gz to ./data/MNIST/raw/t10k-labels-idx1-ubyte.gz\n"
          ]
        },
        {
          "output_type": "display_data",
          "data": {
            "application/vnd.jupyter.widget-view+json": {
              "model_id": "c1d67c3dfe5442c482accbebf2a03fe5",
              "version_minor": 0,
              "version_major": 2
            },
            "text/plain": [
              "  0%|          | 0/4542 [00:00<?, ?it/s]"
            ]
          },
          "metadata": {}
        },
        {
          "output_type": "stream",
          "name": "stdout",
          "text": [
            "Extracting ./data/MNIST/raw/t10k-labels-idx1-ubyte.gz to ./data/MNIST/raw\n",
            "\n",
            "Created train, val, and test datasets.\n"
          ]
        }
      ]
    },
    {
      "cell_type": "markdown",
      "metadata": {
        "id": "TEHDEx0A4rg7"
      },
      "source": [
        "Dataloader"
      ]
    },
    {
      "cell_type": "code",
      "metadata": {
        "id": "B6oWjCknt0-9"
      },
      "source": [
        "train_loader = torch.utils.data.DataLoader(\n",
        "    train, batch_size=outer_loop_batch_size, shuffle=True, drop_last=True, num_workers=1, pin_memory=True,\n",
        ")\n",
        "\n",
        "val_loader = torch.utils.data.DataLoader(\n",
        "    val, batch_size=outer_loop_batch_size, shuffle=True, drop_last=True, num_workers=1, pin_memory=True,\n",
        ")\n",
        "\n",
        "test_loader = torch.utils.data.DataLoader(\n",
        "    test, batch_size=outer_loop_batch_size, shuffle=True, drop_last=True, num_workers=1, pin_memory=True,\n",
        ")"
      ],
      "execution_count": null,
      "outputs": []
    },
    {
      "cell_type": "markdown",
      "metadata": {
        "id": "NENBXah36vrh"
      },
      "source": [
        "Generator "
      ]
    },
    {
      "cell_type": "code",
      "metadata": {
        "id": "aKsF5G1V68sC"
      },
      "source": [
        "class Teacher(nn.Module):\n",
        "    '''\n",
        "    Implements a Teacher module.\n",
        "    '''\n",
        "    def __init__(self):\n",
        "        super().__init__()\n",
        "\n",
        "        conv1_filters = 64\n",
        "        fc1_size = 1024\n",
        "        \n",
        "        self.fc2_filters = 128\n",
        "        self.fc2_width = img_size\n",
        "        fc2_size = self.fc2_filters * self.fc2_width * self.fc2_width\n",
        "\n",
        "        self.fc1 = nn.Linear(noise_size + num_classes, fc1_size)\n",
        "        nn.init.kaiming_normal_(self.fc1.weight, 0.1)\n",
        "        self.bn_fc1 = nn.BatchNorm1d(fc1_size, momentum=0.1)\n",
        "\n",
        "        self.fc2 = nn.Linear(fc1_size, fc2_size)\n",
        "        nn.init.kaiming_normal_(self.fc2.weight, 0.1)\n",
        "        self.bn_fc2 = nn.BatchNorm2d(self.fc2_filters, momentum=0.1)\n",
        "\n",
        "        self.conv1 = nn.Conv2d(self.fc2_filters, conv1_filters, 3, 1, padding=3 // 2)\n",
        "        self.bn_conv1 = nn.BatchNorm2d(conv1_filters, momentum=0.1)\n",
        "\n",
        "        self.conv2 = nn.Conv2d(conv1_filters, 1, 3, 1, padding=3 // 2)\n",
        "        self.bn_conv2 = nn.BatchNorm2d(1, momentum=0.1)\n",
        "        \n",
        "        self.tanh = nn.Tanh()\n",
        "\n",
        "        self.learner_optim_params = nn.Parameter(torch.tensor([0.02, 0.5]), True)\n",
        "\n",
        "    def forward(self, x, target):\n",
        "        '''\n",
        "        Synthesizes a batch of training examples for the learner.\n",
        "        Args:\n",
        "            x (torch.tensor): shape (b, 64)\n",
        "            target (torch.tensor): shape (b, 10)\n",
        "        '''\n",
        "        # Fully connected block 1\n",
        "        x = torch.cat([x, target], dim=1)   # shape (b, 64+10)\n",
        "        x = self.fc1(x)                     # shape (b, 1024)\n",
        "        x = F.leaky_relu(x, 0.1)\n",
        "        x = self.bn_fc1(x)\n",
        "\n",
        "        # Fully connected block 2\n",
        "        x = self.fc2(x)                     # shape (b, 128*28*28)\n",
        "        x = F.leaky_relu(x, 0.1)\n",
        "        x = x.view(                         # shape (b, 128, 28, 28)\n",
        "            -1, self.fc2_filters, self.fc2_width, self.fc2_width\n",
        "        )\n",
        "        x = self.bn_fc2(x)\n",
        "\n",
        "        # Convolutional block 1\n",
        "        x = self.conv1(x)                   # shape (b, 64, 28, 28)\n",
        "        x = self.bn_conv1(x)\n",
        "        x = F.leaky_relu(x, 0.1)\n",
        "\n",
        "        # Convolutional block 2\n",
        "        x = self.conv2(x)                   # shape (b, 1, 28,  28)\n",
        "        x = self.bn_conv2(x)\n",
        "\n",
        "        x = (self.tanh(x) + 1 - 2 * mnist_mean) / (2 * mnist_std)\n",
        "        return x, target "
      ],
      "execution_count": null,
      "outputs": []
    },
    {
      "cell_type": "markdown",
      "metadata": {
        "id": "uUzswqH-69P4"
      },
      "source": [
        "Classifier"
      ]
    },
    {
      "cell_type": "code",
      "metadata": {
        "id": "rZqp0lAz7CmR"
      },
      "source": [
        "class Learner(nn.Module):\n",
        "    '''\n",
        "    Implements a Learner module.\n",
        "    '''\n",
        "    def __init__(self, num_conv1=None, num_conv2=None):\n",
        "        super().__init__()\n",
        "\n",
        "        # Randomly select and evaluate convolutional depth\n",
        "        # for evaluation/comparison in neural architecture search\n",
        "        if num_conv1 is None:\n",
        "            conv1_filters = np.random.randint(32, 64)\n",
        "        else:\n",
        "            conv1_filters = num_conv1\n",
        "        if num_conv2 is None:\n",
        "            conv2_filters = np.random.randint(64, 128)\n",
        "        else:\n",
        "            conv2_filters = num_conv2\n",
        "\n",
        "        self.conv1 = nn.Conv2d(1, conv1_filters, 3, 1)\n",
        "        self.bn1 = nn.BatchNorm2d(conv1_filters, momentum=0.1)\n",
        "\n",
        "        self.conv2 = nn.Conv2d(conv1_filters, conv2_filters, 3, 1)\n",
        "        self.bn2 = nn.BatchNorm2d(conv2_filters, momentum=0.1)\n",
        "\n",
        "        c1_size = (img_size - 3 + 1) // 2\n",
        "        c2_size = (c1_size - 3 + 1) // 2\n",
        "        \n",
        "        self.fc = nn.Linear(conv2_filters * c2_size * c2_size, num_classes)\n",
        "        self.bn3 = nn.BatchNorm1d(num_classes, momentum=0.1)\n",
        "        \n",
        "        self.activation = nn.LeakyReLU(0.1)\n",
        "\n",
        "    def forward(self, x):\n",
        "        x = self.conv1(x)\n",
        "        x = self.activation(x)\n",
        "        x = self.bn1(x)\n",
        "        x = F.max_pool2d(x, 2)\n",
        "\n",
        "        x = self.conv2(x)\n",
        "        x = self.activation(x)\n",
        "        x = self.bn2(x)\n",
        "        x = F.max_pool2d(x, 2)\n",
        "\n",
        "        x = torch.flatten(x, 1)\n",
        "        x = self.fc(x)\n",
        "        x = self.bn3(x)\n",
        "\n",
        "        return x"
      ],
      "execution_count": null,
      "outputs": []
    },
    {
      "cell_type": "markdown",
      "metadata": {
        "id": "TjMifQZ3pO0e"
      },
      "source": [
        "Training"
      ]
    },
    {
      "cell_type": "code",
      "metadata": {
        "id": "9KLgaZ8Q7EUj"
      },
      "source": [
        "def generate_img(img_tensor):\n",
        "    '''\n",
        "    Function that renders an MNIST image.\n",
        "    '''\n",
        "    return torchvision.transforms.ToPILImage()(1 - ((img_tensor * mnist_std) + mnist_mean))"
      ],
      "execution_count": null,
      "outputs": []
    },
    {
      "cell_type": "code",
      "metadata": {
        "id": "gSL8cTcH55bK"
      },
      "source": [
        "teacher = Teacher()\n",
        "params_to_train = list(teacher.parameters())\n",
        "\n",
        "# If we want to use a curriculum, we initialize the learnable parameters here\n",
        "use_curriculum = True\n",
        "if use_curriculum:\n",
        "    curriculum = nn.Parameter(torch.randn(inner_loop_iterations, inner_loop_batch_size, noise_size), requires_grad=True)\n",
        "    params_to_train += [curriculum]\n",
        "\n",
        "optimizer_teacher = optim.Adam(params_to_train, lr=learning_rate)\n",
        "\n",
        "# For each inner loop iterations, we use the same sequence of labels. \n",
        "# This allows the curriculum vectors to train to stable labels \n",
        "label = torch.tensor([x % num_classes for x in range(inner_loop_batch_size)])\n",
        "\n",
        "# For the inner loop loss, we use cross entropy\n",
        "loss_fn = nn.CrossEntropyLoss()\n",
        "\n",
        "# Here we initialize iterators on the train and val datasets\n",
        "train_iterator = iter(train_loader)\n",
        "val_iterator = iter(val_loader)\n",
        "test_iterator = iter(test_loader)"
      ],
      "execution_count": null,
      "outputs": []
    },
    {
      "cell_type": "code",
      "metadata": {
        "id": "ULasVbFGqCUd",
        "colab": {
          "base_uri": "https://localhost:8080/",
          "height": 1000
        },
        "outputId": "36226afa-47a6-4992-baaf-4b3f0f36333c"
      },
      "source": [
        "for it, real_data in enumerate(train_loader):\n",
        "\n",
        "    teacher.train()\n",
        "    optimizer_teacher.zero_grad()\n",
        "\n",
        "    # We also optimize the learner learning rate and momentum with the\n",
        "    # outer loop updates\n",
        "    learner_lr = teacher.learner_optim_params[0]\n",
        "    learner_momentum = teacher.learner_optim_params[1]\n",
        "\n",
        "    # Here we sample a learner with random number of conv filters\n",
        "    learner = Learner()\n",
        "    inner_optim = optim.SGD(learner.parameters(), lr=learner_lr.item(), momentum=learner_momentum.item())\n",
        "    learner.train()\n",
        "\n",
        "    inner_losses = []\n",
        "    with higher.innerloop_ctx(learner, inner_optim, override={'lr': [learner_lr], 'momentum': [learner_momentum]}) as (flearner, diffopt):\n",
        "        for step in range(inner_loop_iterations):\n",
        "\n",
        "            # Data generation\n",
        "            if use_curriculum:\n",
        "                z_vec = curriculum[step]\n",
        "            else:\n",
        "                z_vec = torch.randn(inner_loop_batch_size, noise_size)\n",
        "\n",
        "            one_hot = F.one_hot(label, num_classes)\n",
        "    \n",
        "            # Pass input to teacher to generate synthetic images\n",
        "            teacher_output, teacher_target = teacher(z_vec, one_hot)\n",
        "\n",
        "            # ====== Show intermediate generated images ======\n",
        "            if step == 0:\n",
        "                print('------------------ Outer loop iteration', it + 1, '------------------')\n",
        "                print('Examples 0 - 9 from beginning of inner loop:')\n",
        "                background = Image.new('L', (img_size * imgs_per_row + imgs_per_row + 1, img_size + 2))\n",
        "                for i in range(imgs_per_row): # indexes column \n",
        "                    background.paste(generate_img(teacher_output[i]), (i * 28 + i + 1, 1))\n",
        "                display(background)\n",
        "\n",
        "            if step == (inner_loop_iterations - 1):\n",
        "                print('Examples 0 - 9 from end of inner loop:')\n",
        "                background = Image.new('L', (img_size * imgs_per_row + imgs_per_row + 1, img_size + 2))\n",
        "                for i in range(imgs_per_row): # indexes column\n",
        "                    background.paste(generate_img(teacher_output[i]), (i * 28 + i + 1, 1))\n",
        "                display(background)\n",
        "\n",
        "            # Pass teacher output to the learner \n",
        "            learner_output = flearner(teacher_output)\n",
        "            loss = loss_fn(learner_output, label)\n",
        "            diffopt.step(loss)\n",
        "\n",
        "            inner_losses.append(loss.item())\n",
        "\n",
        "        correct = 0\n",
        "        data, target = real_data\n",
        "        output = flearner(data)\n",
        "        loss = loss_fn(output, target)\n",
        "        pred = output.argmax(dim=1, keepdim=True)\n",
        "        correct += pred.eq(target.view_as(pred)).sum().item()\n",
        "\n",
        "        accuracy_train = correct / target.shape[0]\n",
        "\n",
        "        print(\"Inner loop losses:\", inner_losses)\n",
        "        print(\"Train accuracy:\", accuracy_train)\n",
        "\n",
        "        # Compute accuracy on validation set\n",
        "        data, target = next(val_iterator)\n",
        "        print\n",
        "        output = flearner(data)\n",
        "        pred = output.argmax(dim=1, keepdim=True)\n",
        "        correct = pred.eq(target.view_as(pred)).sum().item()\n",
        "        accuracy = correct / outer_loop_batch_size\n",
        "        print(\"Val accuracy:\", accuracy)\n",
        "\n",
        "        if (it == outer_loop_iterations - 1):\n",
        "            # Compute accuracy on test set\n",
        "            correct = 0\n",
        "            for i, (data, target) in enumerate(test_loader):\n",
        "                output = flearner(data)\n",
        "                pred = output.argmax(dim=1, keepdim=True)\n",
        "                correct += pred.eq(target.view_as(pred)).sum().item()\n",
        "            accuracy = correct / (outer_loop_batch_size * len(test_loader))\n",
        "            print(\"----------------------------------\")\n",
        "            print(\"Done training...\")\n",
        "            print(\"Final test accuracy:\", accuracy)\n",
        "\n",
        "            # Final inner loop training curve\n",
        "            plt.plot(np.arange(len(inner_losses)), inner_losses)\n",
        "            plt.xlabel(\"Inner loop iteration\")\n",
        "            plt.ylabel(\"Cross entropy loss\")\n",
        "            plt.show()\n",
        "\n",
        "            break\n",
        "\n",
        "        loss.backward()\n",
        "\n",
        "    optimizer_teacher.step()"
      ],
      "execution_count": null,
      "outputs": [
        {
          "output_type": "stream",
          "name": "stdout",
          "text": [
            "------------------ Outer loop iteration 1 ------------------\n",
            "Examples 0 - 9 from beginning of inner loop:\n"
          ]
        },
        {
          "output_type": "display_data",
          "data": {
            "image/png": "[encoded data removed]",
            "text/plain": [
              "<PIL.Image.Image image mode=L size=291x30 at 0x7FA0BFCFFB90>"
            ]
          },
          "metadata": {}
        },
        {
          "output_type": "stream",
          "name": "stdout",
          "text": [
            "Examples 0 - 9 from end of inner loop:\n"
          ]
        },
        {
          "output_type": "display_data",
          "data": {
            "image/png": "[encoded data removed]",
            "text/plain": [
              "<PIL.Image.Image image mode=L size=291x30 at 0x7FA0C1899E50>"
            ]
          },
          "metadata": {}
        },
        {
          "output_type": "stream",
          "name": "stdout",
          "text": [
            "Inner loop losses: [2.6703457832336426, 2.645026206970215, 2.681507110595703, 2.6658427715301514, 2.7405998706817627, 2.4710588455200195, 2.5797953605651855, 2.3567452430725098, 2.5401852130889893, 2.3940908908843994, 2.341440200805664, 2.538485050201416, 2.304974317550659, 2.3839070796966553, 2.271450996398926, 2.216782569885254, 2.435528516769409, 2.30399751663208, 2.4448611736297607, 2.259875774383545, 2.336167812347412, 2.211899518966675, 2.2307045459747314, 2.243312120437622, 2.2538580894470215, 2.3382034301757812, 2.258178234100342, 2.2871692180633545, 2.1698904037475586, 2.136939525604248, 2.1530468463897705, 2.1583220958709717]\n",
            "Train accuracy: 0.09375\n",
            "Val accuracy: 0.1171875\n",
            "------------------ Outer loop iteration 2 ------------------\n",
            "Examples 0 - 9 from beginning of inner loop:\n"
          ]
        },
        {
          "output_type": "display_data",
          "data": {
            "image/png": "[encoded data removed]",
            "text/plain": [
              "<PIL.Image.Image image mode=L size=291x30 at 0x7FA0BE6FFE50>"
            ]
          },
          "metadata": {}
        },
        {
          "output_type": "stream",
          "name": "stdout",
          "text": [
            "Examples 0 - 9 from end of inner loop:\n"
          ]
        },
        {
          "output_type": "display_data",
          "data": {
            "image/png": "[encoded data removed]",
            "text/plain": [
              "<PIL.Image.Image image mode=L size=291x30 at 0x7FA1C680A550>"
            ]
          },
          "metadata": {}
        },
        {
          "output_type": "stream",
          "name": "stdout",
          "text": [
            "Inner loop losses: [2.659332036972046, 2.619061231613159, 2.2800517082214355, 2.299887180328369, 2.0207130908966064, 1.9434373378753662, 1.960270643234253, 1.844711422920227, 1.8314337730407715, 1.7637569904327393, 1.6171798706054688, 1.7799441814422607, 1.5913069248199463, 1.757724404335022, 1.53241765499115, 1.494884967803955, 1.5703333616256714, 1.5703120231628418, 1.5169905424118042, 1.4478130340576172, 1.5339161157608032, 1.5064224004745483, 1.5546095371246338, 1.4250539541244507, 1.4113694429397583, 1.4864095449447632, 1.5205215215682983, 1.3452345132827759, 1.5218669176101685, 1.3659616708755493, 1.441867470741272, 1.403502345085144]\n",
            "Train accuracy: 0.6640625\n",
            "Val accuracy: 0.6328125\n",
            "------------------ Outer loop iteration 3 ------------------\n",
            "Examples 0 - 9 from beginning of inner loop:\n"
          ]
        },
        {
          "output_type": "display_data",
          "data": {
            "image/png": "[encoded data removed]",
            "text/plain": [
              "<PIL.Image.Image image mode=L size=291x30 at 0x7FA0BE7097D0>"
            ]
          },
          "metadata": {}
        },
        {
          "output_type": "stream",
          "name": "stdout",
          "text": [
            "Examples 0 - 9 from end of inner loop:\n"
          ]
        },
        {
          "output_type": "display_data",
          "data": {
            "image/png": "[encoded data removed]",
            "text/plain": [
              "<PIL.Image.Image image mode=L size=291x30 at 0x7FA0BFCFF410>"
            ]
          },
          "metadata": {}
        },
        {
          "output_type": "stream",
          "name": "stdout",
          "text": [
            "Inner loop losses: [2.9614109992980957, 2.484269142150879, 2.0231122970581055, 1.687349557876587, 1.4614473581314087, 1.4041271209716797, 1.5253727436065674, 1.2050533294677734, 1.2319504022598267, 1.2179409265518188, 1.1702879667282104, 1.2093411684036255, 1.0455632209777832, 1.1168566942214966, 1.107413649559021, 1.044893741607666, 1.0177630186080933, 0.9665524959564209, 0.9657405614852905, 0.9672898054122925, 0.9907450675964355, 1.0640345811843872, 1.029788851737976, 0.9112594723701477, 0.960887610912323, 0.9416018128395081, 0.9590324759483337, 0.8900535106658936, 0.9505808353424072, 0.921637773513794, 0.8849027156829834, 0.976815402507782]\n",
            "Train accuracy: 0.7109375\n",
            "Val accuracy: 0.7265625\n",
            "------------------ Outer loop iteration 4 ------------------\n",
            "Examples 0 - 9 from beginning of inner loop:\n"
          ]
        },
        {
          "output_type": "display_data",
          "data": {
            "image/png": "[encoded data removed]",
            "text/plain": [
              "<PIL.Image.Image image mode=L size=291x30 at 0x7FA0BD81A610>"
            ]
          },
          "metadata": {}
        },
        {
          "output_type": "stream",
          "name": "stdout",
          "text": [
            "Examples 0 - 9 from end of inner loop:\n"
          ]
        },
        {
          "output_type": "display_data",
          "data": {
            "image/png": "[encoded data removed]",
            "text/plain": [
              "<PIL.Image.Image image mode=L size=291x30 at 0x7FA0BE7150D0>"
            ]
          },
          "metadata": {}
        },
        {
          "output_type": "stream",
          "name": "stdout",
          "text": [
            "Inner loop losses: [2.7102575302124023, 2.243273973464966, 1.743721842765808, 1.4567919969558716, 1.2692376375198364, 1.2471519708633423, 1.2628213167190552, 1.112573266029358, 1.0837020874023438, 1.0172970294952393, 1.0657315254211426, 1.0586762428283691, 0.9715369939804077, 0.9917954206466675, 0.9907445311546326, 0.951570451259613, 0.9465124607086182, 0.8755204081535339, 0.8820890784263611, 0.85659259557724, 0.8587149977684021, 0.9356763958930969, 0.8689390420913696, 0.8060070276260376, 0.825798511505127, 0.8149139881134033, 0.8259177207946777, 0.7899662852287292, 0.8126965165138245, 0.7934446334838867, 0.7446444630622864, 0.8401460647583008]\n",
            "Train accuracy: 0.828125\n",
            "Val accuracy: 0.7421875\n",
            "------------------ Outer loop iteration 5 ------------------\n",
            "Examples 0 - 9 from beginning of inner loop:\n"
          ]
        },
        {
          "output_type": "display_data",
          "data": {
            "image/png": "[encoded data removed]",
            "text/plain": [
              "<PIL.Image.Image image mode=L size=291x30 at 0x7FA0BE6FF850>"
            ]
          },
          "metadata": {}
        },
        {
          "output_type": "stream",
          "name": "stdout",
          "text": [
            "Examples 0 - 9 from end of inner loop:\n"
          ]
        },
        {
          "output_type": "display_data",
          "data": {
            "image/png": "[encoded data removed]",
            "text/plain": [
              "<PIL.Image.Image image mode=L size=291x30 at 0x7FA0BD81A7D0>"
            ]
          },
          "metadata": {}
        },
        {
          "output_type": "stream",
          "name": "stdout",
          "text": [
            "Inner loop losses: [2.6086177825927734, 1.9791606664657593, 1.6027265787124634, 1.336297631263733, 1.2227009534835815, 1.177804708480835, 1.1749851703643799, 1.0467355251312256, 1.020764708518982, 0.9915964007377625, 1.0040687322616577, 0.9979429841041565, 0.8831200003623962, 0.9023911356925964, 0.9396195411682129, 0.889531672000885, 0.8062232732772827, 0.7864211201667786, 0.7644567489624023, 0.8042334318161011, 0.7943709492683411, 0.8404538035392761, 0.7347185015678406, 0.7026923894882202, 0.7392464876174927, 0.7561657428741455, 0.7394148707389832, 0.6680473685264587, 0.6882641911506653, 0.6501415967941284, 0.6579307913780212, 0.7397246956825256]\n",
            "Train accuracy: 0.7734375\n",
            "Val accuracy: 0.8359375\n",
            "----------------------------------\n",
            "Done training...\n",
            "Final test accuracy: 0.8299278846153846\n"
          ]
        },
        {
          "output_type": "display_data",
          "data": {
            "image/png": "[encoded data removed]",
            "text/plain": [
              "<Figure size 432x288 with 1 Axes>"
            ]
          },
          "metadata": {
            "needs_background": "light"
          }
        }
      ]
    },
    {
      "cell_type": "markdown",
      "metadata": {
        "id": "mBMBPES6uZdm"
      },
      "source": [
        "Simple MNIST NAS"
      ]
    },
    {
      "cell_type": "code",
      "metadata": {
        "id": "5hQn3a53uQVc",
        "colab": {
          "base_uri": "https://localhost:8080/"
        },
        "outputId": "9c709c0c-0051-4c5b-dc2a-61b6d0047090"
      },
      "source": [
        "num_architectures = 10\n",
        "\n",
        "best_accuracy = 0\n",
        "\n",
        "for i in range(num_architectures):\n",
        "\n",
        "    # Randomly sample architecture\n",
        "    conv1_filters = np.random.randint(1, 64)\n",
        "    conv2_filters = np.random.randint(1, 128)\n",
        "\n",
        "    learner = Learner(conv1_filters, conv2_filters)\n",
        "    inner_optim = optim.SGD(learner.parameters(), lr=learner_lr.item(), momentum=learner_momentum.item())\n",
        "    learner.train()\n",
        "\n",
        "    # For some reason if we don't use higher here, accuracy drops significantly\n",
        "    with higher.innerloop_ctx(learner, inner_optim, override={'lr': [learner_lr], 'momentum': [learner_momentum]}) as (flearner, diffopt):\n",
        "        for step in range(inner_loop_iterations):\n",
        "\n",
        "            # Data generation\n",
        "            if use_curriculum:\n",
        "                z_vec = curriculum[step]\n",
        "            else:\n",
        "                z_vec = torch.randn(inner_loop_batch_size, noise_size)\n",
        "\n",
        "            one_hot = F.one_hot(label, num_classes)\n",
        "\n",
        "            # Pass input to teacher to generate synthetic images\n",
        "            teacher_output, teacher_target = teacher(z_vec, one_hot)\n",
        "\n",
        "            # Pass teacher output to the learner\n",
        "            learner_output = flearner(teacher_output)\n",
        "            loss = loss_fn(learner_output, label)\n",
        "            diffopt.step(loss)\n",
        "\n",
        "        # Compute accuracy on validation set\n",
        "        correct = 0\n",
        "        for val_idx, (data, target) in enumerate(val_loader, 0):\n",
        "            #if (val_idx == val_iterations): break\n",
        "            output = flearner(data)\n",
        "            pred = output.argmax(dim=1, keepdim=True)\n",
        "            correct += pred.eq(target.view_as(pred)).sum().item()\n",
        "        accuracy = correct / (outer_loop_batch_size * len(val_loader))\n",
        "\n",
        "        if (accuracy > best_accuracy):\n",
        "            best_accuracy = accuracy\n",
        "            filter_counts = (conv1_filters, conv2_filters)\n",
        "\n",
        "        print(\"------------------------- Architecture\", i + 1,\" -------------------------\")\n",
        "        print(\"Num conv1 filters:\", conv1_filters, \", Num conv2 filters:\", conv2_filters, \", Val accuracy:\", accuracy)\n",
        "\n",
        "        \n",
        "        if (i == num_architectures - 1):\n",
        "            correct = 0\n",
        "            for test_idx, (data, target) in enumerate(test_loader, 0):\n",
        "                #if (test_idx == test_iterations): break\n",
        "                output = flearner(data)\n",
        "                pred = output.argmax(dim=1, keepdim=True)\n",
        "                correct += pred.eq(target.view_as(pred)).sum().item()\n",
        "            accuracy = correct / (outer_loop_batch_size * len(test_loader))\n",
        "            print(\"------------------------- Best architecture -------------------------\")\n",
        "            print(\"Num conv1 filters:\", filter_counts[0], \", Num conv2 filters:\", filter_counts[1], \", Test accuracy:\", accuracy)\n",
        "          "
      ],
      "execution_count": null,
      "outputs": [
        {
          "output_type": "stream",
          "name": "stdout",
          "text": [
            "------------------------- Architecture 1  -------------------------\n",
            "Num conv1 filters: 22 , Num conv2 filters: 115 , Val accuracy: 0.8161057692307693\n",
            "------------------------- Architecture 2  -------------------------\n",
            "Num conv1 filters: 37 , Num conv2 filters: 88 , Val accuracy: 0.8191105769230769\n",
            "------------------------- Architecture 3  -------------------------\n",
            "Num conv1 filters: 7 , Num conv2 filters: 89 , Val accuracy: 0.8269230769230769\n",
            "------------------------- Architecture 4  -------------------------\n",
            "Num conv1 filters: 25 , Num conv2 filters: 13 , Val accuracy: 0.7533052884615384\n",
            "------------------------- Architecture 5  -------------------------\n",
            "Num conv1 filters: 59 , Num conv2 filters: 66 , Val accuracy: 0.8175080128205128\n",
            "------------------------- Architecture 6  -------------------------\n",
            "Num conv1 filters: 39 , Num conv2 filters: 40 , Val accuracy: 0.8046875\n",
            "------------------------- Architecture 7  -------------------------\n",
            "Num conv1 filters: 24 , Num conv2 filters: 47 , Val accuracy: 0.8097956730769231\n",
            "------------------------- Architecture 8  -------------------------\n",
            "Num conv1 filters: 25 , Num conv2 filters: 82 , Val accuracy: 0.8011818910256411\n",
            "------------------------- Architecture 9  -------------------------\n",
            "Num conv1 filters: 38 , Num conv2 filters: 26 , Val accuracy: 0.8129006410256411\n",
            "------------------------- Architecture 10  -------------------------\n",
            "Num conv1 filters: 14 , Num conv2 filters: 73 , Val accuracy: 0.8179086538461539\n",
            "------------------------- Best architecture -------------------------\n",
            "Num conv1 filters: 7 , Num conv2 filters: 89 , Test accuracy: 0.8192107371794872\n"
          ]
        }
      ]
    },
    {
      "cell_type": "markdown",
      "metadata": {
        "id": "TWzzqGHUiufO"
      },
      "source": [
        "Visualization "
      ]
    },
    {
      "cell_type": "code",
      "metadata": {
        "id": "tcNX36MTglMe",
        "colab": {
          "base_uri": "https://localhost:8080/",
          "height": 482
        },
        "outputId": "1d42e914-5858-4df8-c2b5-9ac83d3fb882"
      },
      "source": [
        "imgs_per_row = num_classes\n",
        "rows = inner_loop_iterations // 2 * img_size + inner_loop_iterations // 2 + 1\n",
        "cols = imgs_per_row * img_size + imgs_per_row + 1\n",
        "background = Image.new('L', (cols, rows))\n",
        "\n",
        "for step in range(0, inner_loop_iterations, 2): # indexes row\n",
        "    if use_curriculum:\n",
        "        z_vec = curriculum[step]\n",
        "    else:\n",
        "        z_vec = torch.randn(inner_loop_batch_size, noise_size)\n",
        "\n",
        "    one_hot = F.one_hot(label, num_classes)\n",
        "\n",
        "    teacher_output, teacher_target = teacher(z_vec, one_hot)\n",
        "\n",
        "    for i in range(imgs_per_row): # indexes column \n",
        "        background.paste(generate_img(teacher_output[i]), (i * img_size + i + 1, (step // 2) * img_size + (step // 2) + 1))\n",
        "\n",
        "display(background)"
      ],
      "execution_count": null,
      "outputs": [
        {
          "output_type": "display_data",
          "data": {
            "image/png": "[encoded data removed]",
            "text/plain": [
              "<PIL.Image.Image image mode=L size=291x465 at 0x7FA0BFE0FFD0>"
            ]
          },
          "metadata": {}
        }
      ]
    }
  ]
}